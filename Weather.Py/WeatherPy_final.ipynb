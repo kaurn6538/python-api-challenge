{
 "cells": [
  {
   "cell_type": "markdown",
   "metadata": {},
   "source": [
    "# WeatherPy\n",
    "\n",
    "---\n",
    "\n",
    "## Starter Code to Generate Random Geographic Coordinates and a List of Cities"
   ]
  },
  {
   "cell_type": "code",
   "execution_count": 1,
   "metadata": {},
   "outputs": [
    {
     "name": "stdout",
     "output_type": "stream",
     "text": [
      "Requirement already satisfied: citipy in /Users/sonunancy/opt/anaconda3/lib/python3.8/site-packages (0.0.6)\n",
      "Requirement already satisfied: kdtree>=0.12 in /Users/sonunancy/opt/anaconda3/lib/python3.8/site-packages (from citipy) (0.16)\n",
      "Note: you may need to restart the kernel to use updated packages.\n"
     ]
    }
   ],
   "source": [
    "pip install citipy"
   ]
  },
  {
   "cell_type": "code",
   "execution_count": 2,
   "metadata": {
    "scrolled": true
   },
   "outputs": [],
   "source": [
    "\n",
    "# Dependencies and Setup\n",
    "import matplotlib.pyplot as plt\n",
    "import pandas as pd\n",
    "import numpy as np\n",
    "import requests\n",
    "import time\n",
    "from scipy.stats import linregress\n",
    "\n",
    "# Impor the OpenWeatherMap API key\n",
    "from api_keys import weather_api_key\n",
    "\n",
    "# Import citipy to determine the cities based on latitude and longitude\n",
    "from citipy import citipy\n"
   ]
  },
  {
   "cell_type": "markdown",
   "metadata": {},
   "source": [
    "### Generate the Cities List by Using the `citipy` Library"
   ]
  },
  {
   "cell_type": "code",
   "execution_count": 3,
   "metadata": {},
   "outputs": [
    {
     "name": "stdout",
     "output_type": "stream",
     "text": [
      "Number of cities in the list: 623\n"
     ]
    }
   ],
   "source": [
    "from citipy import citipy\n",
    "# Empty list for holding the latitude and longitude combinations\n",
    "lat_lngs = []\n",
    "\n",
    "# Empty list for holding the cities names\n",
    "cities = []\n",
    "\n",
    "# Range of latitudes and longitudes\n",
    "lat_range = (-90, 90)\n",
    "lng_range = (-180, 180)\n",
    "\n",
    "# Create a set of random lat and lng combinations\n",
    "lats = np.random.uniform(lat_range[0], lat_range[1], size=1500)\n",
    "lngs = np.random.uniform(lng_range[0], lng_range[1], size=1500)\n",
    "lat_lngs = zip(lats, lngs)\n",
    "\n",
    "# Identify nearest city for each lat, lng combination\n",
    "for lat_lng in lat_lngs:\n",
    "    city = citipy.nearest_city(lat_lng[0], lat_lng[1]).city_name\n",
    "    \n",
    "    # If the city is unique, then add it to a our cities list\n",
    "    if city not in cities:\n",
    "        cities.append(city)\n",
    "\n",
    "# Print the city count to confirm sufficient count\n",
    "print(f\"Number of cities in the list: {len(cities)}\")"
   ]
  },
  {
   "cell_type": "markdown",
   "metadata": {},
   "source": [
    "---"
   ]
  },
  {
   "cell_type": "markdown",
   "metadata": {},
   "source": [
    "## Requirement 1: Create Plots to Showcase the Relationship Between Weather Variables and Latitude\n",
    "\n",
    "### Use the OpenWeatherMap API to retrieve weather data from the cities list generated in the started code"
   ]
  },
  {
   "cell_type": "code",
   "execution_count": 4,
   "metadata": {},
   "outputs": [
    {
     "name": "stdout",
     "output_type": "stream",
     "text": [
      "Beginning Data Retrieval     \n",
      "-----------------------------\n",
      "Processing Record 1 of Set 1 | kapa'a\n",
      "Processing Record 2 of Set 1 | isafjordur\n",
      "Processing Record 3 of Set 1 | uturoa\n",
      "Processing Record 4 of Set 1 | waitangi\n",
      "Processing Record 5 of Set 1 | adamstown\n",
      "Processing Record 6 of Set 1 | cidreira\n",
      "Processing Record 7 of Set 1 | port-aux-francais\n",
      "Processing Record 8 of Set 1 | kodiak\n",
      "Processing Record 9 of Set 1 | puerto lempira\n",
      "Processing Record 10 of Set 1 | rikaze\n",
      "Processing Record 11 of Set 1 | alo\n",
      "Processing Record 12 of Set 1 | rongelap\n",
      "Processing Record 13 of Set 1 | as sulayyil\n",
      "Processing Record 14 of Set 1 | saudarkrokur\n",
      "Processing Record 15 of Set 1 | ocean pointe\n",
      "City not found. Skipping...\n",
      "Processing Record 16 of Set 1 | cabo san lucas\n",
      "Processing Record 17 of Set 1 | ilulissat\n",
      "Processing Record 18 of Set 1 | yaren\n",
      "Processing Record 19 of Set 1 | crespo\n",
      "Processing Record 20 of Set 1 | shiwan\n",
      "Processing Record 21 of Set 1 | aasiaat\n",
      "Processing Record 22 of Set 1 | ridder\n",
      "Processing Record 23 of Set 1 | northam\n",
      "Processing Record 24 of Set 1 | ust-nera\n",
      "Processing Record 25 of Set 1 | stanley\n",
      "Processing Record 26 of Set 1 | namsos\n",
      "Processing Record 27 of Set 1 | iqaluit\n",
      "Processing Record 28 of Set 1 | grabovo\n",
      "Processing Record 29 of Set 1 | al bawiti\n",
      "Processing Record 30 of Set 1 | pokhara\n",
      "Processing Record 31 of Set 1 | leua\n",
      "Processing Record 32 of Set 1 | estes park\n",
      "Processing Record 33 of Set 1 | bayan nur\n",
      "City not found. Skipping...\n",
      "Processing Record 34 of Set 1 | westport\n",
      "Processing Record 35 of Set 1 | puerto natales\n",
      "Processing Record 36 of Set 1 | albany\n",
      "Processing Record 37 of Set 1 | guane\n",
      "Processing Record 38 of Set 1 | becej\n",
      "Processing Record 39 of Set 1 | emerald\n",
      "Processing Record 40 of Set 1 | longyearbyen\n",
      "Processing Record 41 of Set 1 | hotan\n",
      "Processing Record 42 of Set 1 | ghadamis\n",
      "Processing Record 43 of Set 1 | ushuaia\n",
      "Processing Record 44 of Set 1 | grytviken\n",
      "Processing Record 45 of Set 1 | otacilio costa\n",
      "Processing Record 46 of Set 1 | ghat\n",
      "Processing Record 47 of Set 1 | pyinmana\n",
      "Processing Record 48 of Set 1 | shingu\n",
      "Processing Record 49 of Set 1 | port elizabeth\n",
      "Processing Record 50 of Set 1 | yellowknife\n",
      "Processing Record 0 of Set 2 | la passe\n",
      "Processing Record 1 of Set 2 | iskateley\n",
      "Processing Record 2 of Set 2 | zarghun shahr\n",
      "Processing Record 3 of Set 2 | bredasdorp\n",
      "Processing Record 4 of Set 2 | vorgashor\n",
      "Processing Record 5 of Set 2 | belmonte\n",
      "Processing Record 6 of Set 2 | makokou\n",
      "Processing Record 7 of Set 2 | thompson\n",
      "Processing Record 8 of Set 2 | angaur state\n",
      "Processing Record 9 of Set 2 | gadzhiyevo\n",
      "Processing Record 10 of Set 2 | dakhla\n",
      "Processing Record 11 of Set 2 | gopalpur\n",
      "Processing Record 12 of Set 2 | hawaiian paradise park\n",
      "Processing Record 13 of Set 2 | blackmans bay\n",
      "Processing Record 14 of Set 2 | olonkinbyen\n",
      "Processing Record 15 of Set 2 | altai\n",
      "Processing Record 16 of Set 2 | ambovombe\n",
      "Processing Record 17 of Set 2 | edinburgh of the seven seas\n",
      "Processing Record 18 of Set 2 | san jose del guaviare\n",
      "Processing Record 19 of Set 2 | anadyr\n",
      "Processing Record 20 of Set 2 | port mathurin\n",
      "Processing Record 21 of Set 2 | jayapura\n",
      "Processing Record 22 of Set 2 | harper\n",
      "Processing Record 23 of Set 2 | sao martinho\n",
      "Processing Record 24 of Set 2 | vilyuysk\n",
      "Processing Record 25 of Set 2 | san carlos\n",
      "Processing Record 26 of Set 2 | qaryat suluq\n",
      "Processing Record 27 of Set 2 | gainesville\n",
      "Processing Record 28 of Set 2 | kalabo\n",
      "Processing Record 29 of Set 2 | gaalkacyo\n",
      "Processing Record 30 of Set 2 | vikhorevka\n",
      "Processing Record 31 of Set 2 | valparaiso\n",
      "Processing Record 32 of Set 2 | ribeira grande\n",
      "Processing Record 33 of Set 2 | selfoss\n",
      "Processing Record 34 of Set 2 | ardestan\n",
      "Processing Record 35 of Set 2 | francistown\n",
      "Processing Record 36 of Set 2 | ponmana\n",
      "City not found. Skipping...\n",
      "Processing Record 37 of Set 2 | bodaybo\n",
      "Processing Record 38 of Set 2 | princeville\n",
      "Processing Record 39 of Set 2 | nar'yan-mar\n",
      "Processing Record 40 of Set 2 | richards bay\n",
      "Processing Record 41 of Set 2 | ndele\n",
      "Processing Record 42 of Set 2 | tiksi\n",
      "Processing Record 43 of Set 2 | atafu village\n",
      "Processing Record 44 of Set 2 | margaret river\n",
      "Processing Record 45 of Set 2 | shache\n",
      "Processing Record 46 of Set 2 | sake\n",
      "Processing Record 47 of Set 2 | puerto san carlos\n",
      "City not found. Skipping...\n",
      "Processing Record 48 of Set 2 | hadibu\n",
      "Processing Record 49 of Set 2 | salekhard\n",
      "Processing Record 0 of Set 3 | fernandina beach\n",
      "Processing Record 1 of Set 3 | palora\n",
      "Processing Record 2 of Set 3 | kapuskasing\n",
      "Processing Record 3 of Set 3 | jamestown\n",
      "Processing Record 4 of Set 3 | barguzin\n",
      "Processing Record 5 of Set 3 | college\n",
      "Processing Record 6 of Set 3 | palasa\n",
      "Processing Record 7 of Set 3 | tsiombe\n",
      "Processing Record 8 of Set 3 | whitehorse\n",
      "Processing Record 9 of Set 3 | brezina\n",
      "Processing Record 10 of Set 3 | ta`u\n",
      "Processing Record 11 of Set 3 | taunggyi\n",
      "Processing Record 12 of Set 3 | las heras\n",
      "Processing Record 13 of Set 3 | taiohae\n",
      "City not found. Skipping...\n",
      "Processing Record 14 of Set 3 | verkhnevilyuysk\n",
      "Processing Record 15 of Set 3 | ambalangoda\n",
      "Processing Record 16 of Set 3 | trinidad\n",
      "Processing Record 17 of Set 3 | nemuro\n",
      "Processing Record 18 of Set 3 | dickinson\n",
      "Processing Record 19 of Set 3 | bethel\n",
      "Processing Record 20 of Set 3 | santa cruz\n",
      "Processing Record 21 of Set 3 | halifax\n",
      "Processing Record 22 of Set 3 | flying fish cove\n",
      "Processing Record 23 of Set 3 | crane\n",
      "Processing Record 24 of Set 3 | charters towers\n",
      "Processing Record 25 of Set 3 | natal\n",
      "Processing Record 26 of Set 3 | badger\n",
      "Processing Record 27 of Set 3 | suva\n",
      "Processing Record 28 of Set 3 | el calafate\n",
      "Processing Record 29 of Set 3 | utrik\n",
      "Processing Record 30 of Set 3 | tupancireta\n",
      "Processing Record 31 of Set 3 | tidjikja\n",
      "Processing Record 32 of Set 3 | plettenberg bay\n",
      "Processing Record 33 of Set 3 | katsuren-haebaru\n",
      "Processing Record 34 of Set 3 | grand baie\n",
      "Processing Record 35 of Set 3 | remire-montjoly\n",
      "Processing Record 36 of Set 3 | south hedland\n",
      "Processing Record 37 of Set 3 | humaita\n",
      "Processing Record 38 of Set 3 | sinabang\n",
      "Processing Record 39 of Set 3 | korla\n",
      "Processing Record 40 of Set 3 | vanimo\n",
      "Processing Record 41 of Set 3 | tura\n",
      "Processing Record 42 of Set 3 | holualoa\n",
      "Processing Record 43 of Set 3 | zheleznodorozhnyy\n",
      "Processing Record 44 of Set 3 | dolbeau-mistassini\n",
      "Processing Record 45 of Set 3 | tres arroyos\n",
      "Processing Record 46 of Set 3 | lompoc\n",
      "Processing Record 47 of Set 3 | saipan\n",
      "Processing Record 48 of Set 3 | kerikeri\n",
      "Processing Record 49 of Set 3 | taoudenni\n",
      "Processing Record 0 of Set 4 | galliano\n",
      "Processing Record 1 of Set 4 | keetmanshoop\n",
      "Processing Record 2 of Set 4 | ust-tsilma\n",
      "Processing Record 3 of Set 4 | ad dabbah\n",
      "Processing Record 4 of Set 4 | san patricio\n",
      "Processing Record 5 of Set 4 | ko pha ngan\n",
      "Processing Record 6 of Set 4 | vila do maio\n",
      "Processing Record 7 of Set 4 | hamilton\n",
      "Processing Record 8 of Set 4 | papatowai\n",
      "Processing Record 9 of Set 4 | hanzhong\n",
      "Processing Record 10 of Set 4 | qaqortoq\n",
      "Processing Record 11 of Set 4 | kavaratti\n",
      "Processing Record 12 of Set 4 | inarajan village\n",
      "Processing Record 13 of Set 4 | tlahualilo de zaragoza\n",
      "Processing Record 14 of Set 4 | hinton\n",
      "Processing Record 15 of Set 4 | timbuktu\n",
      "Processing Record 16 of Set 4 | mogocha\n",
      "Processing Record 17 of Set 4 | georgetown\n",
      "Processing Record 18 of Set 4 | punta arenas\n",
      "Processing Record 19 of Set 4 | luganville\n",
      "Processing Record 20 of Set 4 | pana\n",
      "Processing Record 21 of Set 4 | thunder bay\n",
      "Processing Record 22 of Set 4 | vilyuchinsk\n",
      "Processing Record 23 of Set 4 | zavetnoye\n",
      "Processing Record 24 of Set 4 | east london\n",
      "Processing Record 25 of Set 4 | alpine\n",
      "Processing Record 26 of Set 4 | senillosa\n",
      "Processing Record 27 of Set 4 | port alfred\n",
      "Processing Record 28 of Set 4 | bella vista\n",
      "Processing Record 29 of Set 4 | az zuwaytinah\n",
      "Processing Record 30 of Set 4 | kruisfontein\n",
      "Processing Record 31 of Set 4 | west island\n",
      "Processing Record 32 of Set 4 | saint george's\n",
      "Processing Record 33 of Set 4 | rocha\n",
      "Processing Record 34 of Set 4 | syktyvkar\n",
      "Processing Record 35 of Set 4 | lihue\n",
      "Processing Record 36 of Set 4 | merelani\n",
      "Processing Record 37 of Set 4 | kingston\n",
      "Processing Record 38 of Set 4 | lincoln\n",
      "Processing Record 39 of Set 4 | natore\n",
      "City not found. Skipping...\n",
      "Processing Record 40 of Set 4 | sarupathar\n"
     ]
    },
    {
     "name": "stdout",
     "output_type": "stream",
     "text": [
      "Processing Record 41 of Set 4 | sept-iles\n",
      "Processing Record 42 of Set 4 | laojunmiao\n",
      "Processing Record 43 of Set 4 | coihueco\n",
      "Processing Record 44 of Set 4 | melfort\n",
      "Processing Record 45 of Set 4 | patacamaya\n",
      "Processing Record 46 of Set 4 | fort bragg\n",
      "Processing Record 47 of Set 4 | fisterra\n",
      "Processing Record 48 of Set 4 | severo-yeniseyskiy\n",
      "Processing Record 49 of Set 4 | itaituba\n",
      "Processing Record 0 of Set 5 | bilibino\n",
      "Processing Record 1 of Set 5 | arteche\n",
      "Processing Record 2 of Set 5 | okha\n",
      "Processing Record 3 of Set 5 | lospalos\n",
      "Processing Record 4 of Set 5 | codrington\n",
      "Processing Record 5 of Set 5 | talnakh\n",
      "Processing Record 6 of Set 5 | zaragoza\n",
      "Processing Record 7 of Set 5 | keflavik\n",
      "Processing Record 8 of Set 5 | petropavlovsk-kamchatsky\n",
      "Processing Record 9 of Set 5 | daru\n",
      "Processing Record 10 of Set 5 | puerto aysen\n",
      "Processing Record 11 of Set 5 | voss\n",
      "Processing Record 12 of Set 5 | buka\n",
      "Processing Record 13 of Set 5 | bull savanna\n",
      "Processing Record 14 of Set 5 | serenje\n",
      "Processing Record 15 of Set 5 | shoreham-by-sea\n",
      "Processing Record 16 of Set 5 | dunedin\n",
      "Processing Record 17 of Set 5 | akureyri\n",
      "Processing Record 18 of Set 5 | qui nhon\n",
      "Processing Record 19 of Set 5 | avarua\n",
      "Processing Record 20 of Set 5 | kadisehri\n",
      "Processing Record 21 of Set 5 | el nido\n",
      "Processing Record 22 of Set 5 | ketchikan\n",
      "Processing Record 23 of Set 5 | pierre\n",
      "Processing Record 24 of Set 5 | nizhneangarsk\n",
      "Processing Record 25 of Set 5 | mount darwin\n",
      "Processing Record 26 of Set 5 | queenstown\n",
      "Processing Record 27 of Set 5 | puerto ayora\n",
      "Processing Record 28 of Set 5 | olgii\n",
      "City not found. Skipping...\n",
      "Processing Record 29 of Set 5 | tolanaro\n",
      "Processing Record 30 of Set 5 | lanark\n",
      "Processing Record 31 of Set 5 | kaifeng\n",
      "Processing Record 32 of Set 5 | ghanzi\n",
      "Processing Record 33 of Set 5 | bentiu\n",
      "Processing Record 34 of Set 5 | casteljaloux\n",
      "Processing Record 35 of Set 5 | yuzhno-kurilsk\n",
      "Processing Record 36 of Set 5 | vorkuta\n",
      "Processing Record 37 of Set 5 | maryville\n",
      "Processing Record 38 of Set 5 | taos\n",
      "Processing Record 39 of Set 5 | santiago juxtlahuaca\n",
      "Processing Record 40 of Set 5 | inirida\n",
      "Processing Record 41 of Set 5 | mogadishu\n",
      "Processing Record 42 of Set 5 | minas de marcona\n",
      "Processing Record 43 of Set 5 | boguchany\n",
      "Processing Record 44 of Set 5 | hermanus\n",
      "Processing Record 45 of Set 5 | wailua homesteads\n",
      "Processing Record 46 of Set 5 | lorengau\n",
      "Processing Record 47 of Set 5 | invercargill\n",
      "Processing Record 48 of Set 5 | zlatni pyasatsi\n",
      "Processing Record 49 of Set 5 | tanjung selor\n",
      "City not found. Skipping...\n",
      "Processing Record 0 of Set 6 | lethem\n",
      "Processing Record 1 of Set 6 | trancas\n",
      "Processing Record 2 of Set 6 | vingt cinq\n",
      "City not found. Skipping...\n",
      "Processing Record 3 of Set 6 | santa elena de uairen\n",
      "Processing Record 4 of Set 6 | teguise\n",
      "Processing Record 5 of Set 6 | garden city\n",
      "Processing Record 6 of Set 6 | nouadhibou\n",
      "Processing Record 7 of Set 6 | pantai cenang\n",
      "City not found. Skipping...\n",
      "Processing Record 8 of Set 6 | argo\n",
      "Processing Record 9 of Set 6 | lerwick\n",
      "Processing Record 10 of Set 6 | puerto maldonado\n",
      "Processing Record 11 of Set 6 | rampachodavaram\n",
      "Processing Record 12 of Set 6 | fort mcmurray\n",
      "Processing Record 13 of Set 6 | seogwipo\n",
      "City not found. Skipping...\n",
      "Processing Record 14 of Set 6 | al jawf\n",
      "Processing Record 15 of Set 6 | nabire\n",
      "Processing Record 16 of Set 6 | borogontsy\n",
      "Processing Record 17 of Set 6 | afaahiti\n",
      "Processing Record 18 of Set 6 | dubbo\n",
      "Processing Record 19 of Set 6 | breckenridge\n",
      "Processing Record 20 of Set 6 | turuntayevo\n",
      "Processing Record 21 of Set 6 | porto velho\n",
      "Processing Record 22 of Set 6 | kiunga\n",
      "Processing Record 23 of Set 6 | mandiana\n",
      "Processing Record 24 of Set 6 | hayma'\n",
      "City not found. Skipping...\n",
      "Processing Record 25 of Set 6 | opuwo\n",
      "Processing Record 26 of Set 6 | saldanha\n",
      "Processing Record 27 of Set 6 | beloyarskiy\n",
      "Processing Record 28 of Set 6 | tarinkot\n",
      "Processing Record 29 of Set 6 | tubarjal\n",
      "Processing Record 30 of Set 6 | pisco\n",
      "Processing Record 31 of Set 6 | rakops\n",
      "Processing Record 32 of Set 6 | cam pha mines\n",
      "Processing Record 33 of Set 6 | darwin\n",
      "Processing Record 34 of Set 6 | san ignacio de velasco\n",
      "Processing Record 35 of Set 6 | hithadhoo\n",
      "Processing Record 36 of Set 6 | parsons\n",
      "Processing Record 37 of Set 6 | bogale\n",
      "Processing Record 38 of Set 6 | mandera\n",
      "Processing Record 39 of Set 6 | parry sound\n",
      "Processing Record 40 of Set 6 | svetlyy\n",
      "Processing Record 41 of Set 6 | kristiansund\n",
      "Processing Record 42 of Set 6 | villa gesell\n",
      "Processing Record 43 of Set 6 | atar\n",
      "Processing Record 44 of Set 6 | kenora\n",
      "Processing Record 45 of Set 6 | afonso bezerra\n",
      "Processing Record 46 of Set 6 | vila velha\n",
      "Processing Record 47 of Set 6 | misratah\n",
      "Processing Record 48 of Set 6 | puerto baquerizo moreno\n",
      "Processing Record 49 of Set 6 | ushtobe\n",
      "Processing Record 0 of Set 7 | zhezqazghan\n",
      "Processing Record 1 of Set 7 | coquimbo\n",
      "Processing Record 2 of Set 7 | pamandzi\n",
      "Processing Record 3 of Set 7 | kununurra\n",
      "Processing Record 4 of Set 7 | rio grande\n",
      "Processing Record 5 of Set 7 | alta\n",
      "Processing Record 6 of Set 7 | hawkinsville\n",
      "Processing Record 7 of Set 7 | susuman\n",
      "Processing Record 8 of Set 7 | basse-terre\n",
      "Processing Record 9 of Set 7 | maunabo\n",
      "Processing Record 10 of Set 7 | axim\n",
      "Processing Record 11 of Set 7 | bamboo flat\n",
      "Processing Record 12 of Set 7 | weno\n",
      "Processing Record 13 of Set 7 | gakem\n",
      "Processing Record 14 of Set 7 | saratovskaya\n",
      "Processing Record 15 of Set 7 | vadso\n",
      "Processing Record 16 of Set 7 | ismailia\n",
      "Processing Record 17 of Set 7 | valognes\n",
      "Processing Record 18 of Set 7 | oyem\n",
      "Processing Record 19 of Set 7 | reggane\n",
      "Processing Record 20 of Set 7 | puerto deseado\n",
      "Processing Record 21 of Set 7 | balqash\n",
      "Processing Record 22 of Set 7 | xuanzhou\n",
      "Processing Record 23 of Set 7 | hami\n",
      "Processing Record 24 of Set 7 | nova vicosa\n",
      "Processing Record 25 of Set 7 | viborg\n",
      "Processing Record 26 of Set 7 | nuku'alofa\n",
      "Processing Record 27 of Set 7 | saint-francois\n",
      "Processing Record 28 of Set 7 | alotau\n",
      "City not found. Skipping...\n",
      "Processing Record 29 of Set 7 | kourou\n",
      "Processing Record 30 of Set 7 | wald-michelbach\n",
      "Processing Record 31 of Set 7 | borkum\n",
      "Processing Record 32 of Set 7 | st. john's\n",
      "Processing Record 33 of Set 7 | sosnovo-ozerskoye\n",
      "Processing Record 34 of Set 7 | kayangel\n",
      "Processing Record 35 of Set 7 | midvagur\n",
      "Processing Record 36 of Set 7 | sisimiut\n",
      "Processing Record 37 of Set 7 | cova figueira\n",
      "Processing Record 38 of Set 7 | mukalla\n",
      "Processing Record 39 of Set 7 | juan griego\n",
      "Processing Record 40 of Set 7 | jacmel\n",
      "Processing Record 41 of Set 7 | 'ohonua\n",
      "City not found. Skipping...\n",
      "Processing Record 42 of Set 7 | stalbe\n",
      "Processing Record 43 of Set 7 | bykovo\n",
      "Processing Record 44 of Set 7 | muisne\n",
      "Processing Record 45 of Set 7 | kataragama\n",
      "City not found. Skipping...\n",
      "Processing Record 46 of Set 7 | marshfield\n",
      "Processing Record 47 of Set 7 | praia da vitoria\n",
      "Processing Record 48 of Set 7 | bakchar\n",
      "Processing Record 49 of Set 7 | ancud\n",
      "Processing Record 0 of Set 8 | benidorm\n",
      "Processing Record 1 of Set 8 | arraial do cabo\n",
      "Processing Record 2 of Set 8 | itoman\n",
      "Processing Record 3 of Set 8 | enewetak\n",
      "Processing Record 4 of Set 8 | tazovsky\n",
      "Processing Record 5 of Set 8 | chibougamau\n",
      "Processing Record 6 of Set 8 | agnibilekrou\n",
      "Processing Record 7 of Set 8 | mejit\n",
      "Processing Record 8 of Set 8 | mbanza-ngungu\n",
      "Processing Record 9 of Set 8 | manta\n",
      "Processing Record 10 of Set 8 | palikir - national government center\n",
      "Processing Record 11 of Set 8 | kotka\n",
      "Processing Record 12 of Set 8 | geraldton\n",
      "Processing Record 13 of Set 8 | khash\n",
      "Processing Record 14 of Set 8 | arkhangel'sk\n",
      "Processing Record 15 of Set 8 | kalinagar\n",
      "Processing Record 16 of Set 8 | micheweni\n",
      "Processing Record 17 of Set 8 | touros\n",
      "Processing Record 18 of Set 8 | thames\n",
      "Processing Record 19 of Set 8 | baise city\n",
      "Processing Record 20 of Set 8 | lubango\n",
      "Processing Record 21 of Set 8 | srednyaya yelyuzan'\n",
      "Processing Record 22 of Set 8 | griffith\n",
      "Processing Record 23 of Set 8 | talara\n",
      "Processing Record 24 of Set 8 | livingston\n",
      "Processing Record 25 of Set 8 | banda\n",
      "Processing Record 26 of Set 8 | honefoss\n",
      "Processing Record 27 of Set 8 | chonchi\n",
      "Processing Record 28 of Set 8 | sredets\n",
      "Processing Record 29 of Set 8 | toga village\n",
      "City not found. Skipping...\n",
      "Processing Record 30 of Set 8 | bandon\n"
     ]
    },
    {
     "name": "stdout",
     "output_type": "stream",
     "text": [
      "Processing Record 31 of Set 8 | bikenibeu village\n",
      "Processing Record 32 of Set 8 | hasaki\n",
      "Processing Record 33 of Set 8 | sovetskaya gavan'\n",
      "Processing Record 34 of Set 8 | comodoro rivadavia\n",
      "Processing Record 35 of Set 8 | general jose de san martin\n",
      "Processing Record 36 of Set 8 | ubiaja\n",
      "Processing Record 37 of Set 8 | dudinka\n",
      "Processing Record 38 of Set 8 | polyarnyye zori\n",
      "Processing Record 39 of Set 8 | ust'-kut\n",
      "Processing Record 40 of Set 8 | st. albert\n",
      "Processing Record 41 of Set 8 | tralee\n",
      "Processing Record 42 of Set 8 | ikwiriri\n",
      "Processing Record 43 of Set 8 | el granada\n",
      "Processing Record 44 of Set 8 | winburg\n",
      "Processing Record 45 of Set 8 | sur\n",
      "Processing Record 46 of Set 8 | rangendingen\n",
      "Processing Record 47 of Set 8 | gafanha da nazare\n",
      "Processing Record 48 of Set 8 | port blair\n",
      "Processing Record 49 of Set 8 | seybaplaya\n",
      "Processing Record 0 of Set 9 | susanville\n",
      "Processing Record 1 of Set 9 | la'ie\n",
      "Processing Record 2 of Set 9 | vostochnyy\n",
      "Processing Record 3 of Set 9 | saint croix\n",
      "Processing Record 4 of Set 9 | gomez farias\n",
      "Processing Record 5 of Set 9 | san antonio del estrecho\n",
      "City not found. Skipping...\n",
      "Processing Record 6 of Set 9 | maintirano\n",
      "Processing Record 7 of Set 9 | broken hill\n",
      "Processing Record 8 of Set 9 | callao\n",
      "Processing Record 9 of Set 9 | kudahuvadhoo\n",
      "Processing Record 10 of Set 9 | padang\n",
      "Processing Record 11 of Set 9 | huaiyuan chengguanzhen\n",
      "Processing Record 12 of Set 9 | xianju\n",
      "Processing Record 13 of Set 9 | constantia\n",
      "Processing Record 14 of Set 9 | neryungri\n",
      "Processing Record 15 of Set 9 | saint-philippe\n",
      "Processing Record 16 of Set 9 | mammoth lakes\n",
      "Processing Record 17 of Set 9 | jiquipilas\n",
      "Processing Record 18 of Set 9 | sandnessjoen\n",
      "Processing Record 19 of Set 9 | xinguara\n",
      "City not found. Skipping...\n",
      "Processing Record 20 of Set 9 | matara\n",
      "Processing Record 21 of Set 9 | beledweyne\n",
      "Processing Record 22 of Set 9 | sinop\n",
      "Processing Record 23 of Set 9 | kismayo\n",
      "Processing Record 24 of Set 9 | verdal\n",
      "Processing Record 25 of Set 9 | inhambane\n",
      "Processing Record 26 of Set 9 | fale old settlement\n",
      "Processing Record 27 of Set 9 | ostersund\n",
      "Processing Record 28 of Set 9 | viedma\n",
      "Processing Record 29 of Set 9 | ciudad victoria\n",
      "Processing Record 30 of Set 9 | salinopolis\n",
      "Processing Record 31 of Set 9 | sanctuary point\n",
      "Processing Record 32 of Set 9 | broome\n",
      "Processing Record 33 of Set 9 | illizi\n",
      "Processing Record 34 of Set 9 | barpathar\n",
      "Processing Record 35 of Set 9 | ifanadiana\n",
      "Processing Record 36 of Set 9 | andrews\n",
      "Processing Record 37 of Set 9 | new norfolk\n",
      "Processing Record 38 of Set 9 | belyy yar\n",
      "Processing Record 39 of Set 9 | la ronge\n",
      "Processing Record 40 of Set 9 | parepare\n",
      "City not found. Skipping...\n",
      "Processing Record 41 of Set 9 | merritt island\n",
      "Processing Record 42 of Set 9 | fendou\n",
      "Processing Record 43 of Set 9 | puranpur\n",
      "Processing Record 44 of Set 9 | yigo village\n",
      "Processing Record 45 of Set 9 | nguigmi\n",
      "Processing Record 46 of Set 9 | onega\n",
      "Processing Record 47 of Set 9 | sola\n",
      "Processing Record 48 of Set 9 | udachny\n",
      "Processing Record 49 of Set 9 | muntok\n",
      "Processing Record 0 of Set 10 | nantucket\n",
      "Processing Record 1 of Set 10 | sitka\n",
      "Processing Record 2 of Set 10 | rurrenabaque\n",
      "Processing Record 3 of Set 10 | masterton\n",
      "Processing Record 4 of Set 10 | tynda\n",
      "Processing Record 5 of Set 10 | walvis bay\n",
      "Processing Record 6 of Set 10 | qamdo\n",
      "Processing Record 7 of Set 10 | douglas\n",
      "Processing Record 8 of Set 10 | palmer\n",
      "Processing Record 9 of Set 10 | bom sucesso\n",
      "Processing Record 10 of Set 10 | kirakira\n",
      "Processing Record 11 of Set 10 | kunjah\n",
      "Processing Record 12 of Set 10 | oranjemund\n",
      "Processing Record 13 of Set 10 | weinan\n",
      "Processing Record 14 of Set 10 | tranovaho\n",
      "City not found. Skipping...\n",
      "Processing Record 15 of Set 10 | lepsy\n",
      "Processing Record 16 of Set 10 | douentza\n",
      "Processing Record 17 of Set 10 | tavda\n",
      "Processing Record 18 of Set 10 | droitwich\n",
      "Processing Record 19 of Set 10 | lebu\n",
      "Processing Record 20 of Set 10 | lulea\n",
      "Processing Record 21 of Set 10 | villamontes\n",
      "Processing Record 22 of Set 10 | guerrero negro\n",
      "Processing Record 23 of Set 10 | guaratuba\n",
      "Processing Record 24 of Set 10 | murzuq\n",
      "Processing Record 25 of Set 10 | prince rupert\n",
      "Processing Record 26 of Set 10 | kavieng\n",
      "Processing Record 27 of Set 10 | saint-joseph\n",
      "Processing Record 28 of Set 10 | happy valley-goose bay\n",
      "Processing Record 29 of Set 10 | arraias\n",
      "Processing Record 30 of Set 10 | arenas de san pedro\n",
      "Processing Record 31 of Set 10 | yinzhu\n",
      "Processing Record 32 of Set 10 | dukhan\n",
      "Processing Record 33 of Set 10 | wanning\n",
      "Processing Record 34 of Set 10 | turinsk\n",
      "Processing Record 35 of Set 10 | bryne\n",
      "Processing Record 36 of Set 10 | yugorsk\n",
      "Processing Record 37 of Set 10 | ataq\n",
      "Processing Record 38 of Set 10 | liwonde\n",
      "Processing Record 39 of Set 10 | xapuri\n",
      "Processing Record 40 of Set 10 | yoichi\n",
      "Processing Record 41 of Set 10 | mahdalynivka\n",
      "Processing Record 42 of Set 10 | alness\n",
      "Processing Record 43 of Set 10 | berdigestyakh\n",
      "Processing Record 44 of Set 10 | salalah\n",
      "Processing Record 45 of Set 10 | megion\n",
      "Processing Record 46 of Set 10 | rancho palos verdes\n",
      "Processing Record 47 of Set 10 | del rio\n",
      "Processing Record 48 of Set 10 | camayenne\n",
      "Processing Record 49 of Set 10 | general villegas\n",
      "Processing Record 0 of Set 11 | fada\n",
      "Processing Record 1 of Set 11 | lata\n",
      "Processing Record 2 of Set 11 | usinsk\n",
      "Processing Record 3 of Set 11 | suchedniow\n",
      "Processing Record 4 of Set 11 | woolgoolga\n",
      "Processing Record 5 of Set 11 | taroa\n",
      "Processing Record 6 of Set 11 | batticaloa\n",
      "Processing Record 7 of Set 11 | breaux bridge\n",
      "Processing Record 8 of Set 11 | mirny\n",
      "Processing Record 9 of Set 11 | san jose village\n",
      "City not found. Skipping...\n",
      "Processing Record 10 of Set 11 | tevragh zeina\n",
      "City not found. Skipping...\n",
      "Processing Record 11 of Set 11 | port-vila\n",
      "Processing Record 12 of Set 11 | urangan\n",
      "Processing Record 13 of Set 11 | hirara\n",
      "Processing Record 14 of Set 11 | carnarvon\n",
      "Processing Record 15 of Set 11 | tindouf\n",
      "Processing Record 16 of Set 11 | mount isa\n",
      "Processing Record 17 of Set 11 | takoradi\n",
      "Processing Record 18 of Set 11 | vernon\n",
      "Processing Record 19 of Set 11 | huambo\n",
      "Processing Record 20 of Set 11 | ilfracombe\n",
      "Processing Record 21 of Set 11 | tazacorte\n",
      "Processing Record 22 of Set 11 | choyr\n",
      "Processing Record 23 of Set 11 | iskenderun\n",
      "Processing Record 24 of Set 11 | cururupu\n",
      "Processing Record 25 of Set 11 | jianguang\n",
      "Processing Record 26 of Set 11 | klyuchi\n",
      "Processing Record 27 of Set 11 | baardheere\n",
      "Processing Record 28 of Set 11 | port saint john's\n",
      "Processing Record 29 of Set 11 | zaozersk\n",
      "Processing Record 30 of Set 11 | balcarce\n",
      "Processing Record 31 of Set 11 | mahibadhoo\n",
      "Processing Record 32 of Set 11 | mesyagutovo\n",
      "Processing Record 33 of Set 11 | lazaro cardenas\n",
      "Processing Record 34 of Set 11 | dellys\n",
      "Processing Record 35 of Set 11 | atbasar\n",
      "Processing Record 36 of Set 11 | swakopmund\n",
      "Processing Record 37 of Set 11 | karema\n",
      "Processing Record 38 of Set 11 | guardo\n",
      "Processing Record 39 of Set 11 | aldinga beach\n",
      "Processing Record 40 of Set 11 | salym\n",
      "Processing Record 41 of Set 11 | namanga\n",
      "Processing Record 42 of Set 11 | coyhaique\n",
      "Processing Record 43 of Set 11 | peniche\n",
      "Processing Record 44 of Set 11 | zanesville\n",
      "Processing Record 45 of Set 11 | mawlamyinegyunn\n",
      "Processing Record 46 of Set 11 | sao jose da coroa grande\n",
      "Processing Record 47 of Set 11 | souillac\n",
      "Processing Record 48 of Set 11 | fort st. john\n",
      "Processing Record 49 of Set 11 | ponta delgada\n",
      "Processing Record 0 of Set 12 | laascaanood\n",
      "Processing Record 1 of Set 12 | puerto ayacucho\n",
      "Processing Record 2 of Set 12 | adrar\n",
      "Processing Record 3 of Set 12 | san luis\n",
      "Processing Record 4 of Set 12 | laufach\n",
      "Processing Record 5 of Set 12 | mirnyy\n",
      "Processing Record 6 of Set 12 | saint-leu\n",
      "Processing Record 7 of Set 12 | berbera\n",
      "Processing Record 8 of Set 12 | maceio\n",
      "Processing Record 9 of Set 12 | ciudad madero\n",
      "Processing Record 10 of Set 12 | cumaribo\n",
      "City not found. Skipping...\n",
      "Processing Record 11 of Set 12 | markovo\n",
      "Processing Record 12 of Set 12 | shenjiamen\n",
      "Processing Record 13 of Set 12 | zemio\n",
      "Processing Record 14 of Set 12 | tchintabaraden\n",
      "Processing Record 15 of Set 12 | boende\n",
      "Processing Record 16 of Set 12 | kelaat mgouna\n",
      "City not found. Skipping...\n",
      "Processing Record 17 of Set 12 | guiyang\n"
     ]
    },
    {
     "name": "stdout",
     "output_type": "stream",
     "text": [
      "Processing Record 18 of Set 12 | bayganin\n",
      "Processing Record 19 of Set 12 | west fargo\n",
      "Processing Record 20 of Set 12 | muli\n",
      "Processing Record 21 of Set 12 | grand falls-windsor\n",
      "Processing Record 22 of Set 12 | topolovgrad\n",
      "Processing Record 23 of Set 12 | general pico\n",
      "Processing Record 24 of Set 12 | egilsstadir\n",
      "Processing Record 25 of Set 12 | quatre cocos\n",
      "Processing Record 26 of Set 12 | ras al khaimah city\n",
      "Processing Record 27 of Set 12 | sciacca\n",
      "Processing Record 28 of Set 12 | fuvahmulah\n",
      "City not found. Skipping...\n",
      "Processing Record 29 of Set 12 | klaksvik\n",
      "Processing Record 30 of Set 12 | richland\n",
      "Processing Record 31 of Set 12 | portland\n",
      "Processing Record 32 of Set 12 | qarqaraly\n",
      "Processing Record 33 of Set 12 | greenville\n",
      "Processing Record 34 of Set 12 | colonia\n",
      "Processing Record 35 of Set 12 | rabo de peixe\n",
      "Processing Record 36 of Set 12 | san miguel\n",
      "Processing Record 37 of Set 12 | dzhambeyty\n",
      "Processing Record 38 of Set 12 | miguel aleman (la doce)\n",
      "City not found. Skipping...\n",
      "Processing Record 39 of Set 12 | nyurba\n",
      "Processing Record 40 of Set 12 | igarka\n",
      "Processing Record 41 of Set 12 | eydhafushi\n",
      "Processing Record 42 of Set 12 | wellington\n",
      "Processing Record 43 of Set 12 | wytheville\n",
      "Processing Record 44 of Set 12 | les anglais\n",
      "Processing Record 45 of Set 12 | devonport\n",
      "Processing Record 46 of Set 12 | kailua-kona\n",
      "Processing Record 47 of Set 12 | aripuana\n",
      "Processing Record 48 of Set 12 | hammerfest\n",
      "Processing Record 49 of Set 12 | mchinji\n",
      "Processing Record 0 of Set 13 | somerset east\n",
      "Processing Record 1 of Set 13 | grenada\n",
      "Processing Record 2 of Set 13 | tabas\n",
      "Processing Record 3 of Set 13 | rasony\n",
      "Processing Record 4 of Set 13 | preobrazheniye\n",
      "Processing Record 5 of Set 13 | houma\n",
      "Processing Record 6 of Set 13 | bardai\n",
      "Processing Record 7 of Set 13 | zhangatas\n",
      "Processing Record 8 of Set 13 | mount gambier\n",
      "Processing Record 9 of Set 13 | tikrit\n",
      "Processing Record 10 of Set 13 | shubarshi\n",
      "Processing Record 11 of Set 13 | the pas\n",
      "Processing Record 12 of Set 13 | sikonge\n",
      "Processing Record 13 of Set 13 | santa maria\n",
      "Processing Record 14 of Set 13 | oriximina\n",
      "Processing Record 15 of Set 13 | howard springs\n",
      "Processing Record 16 of Set 13 | sultanah\n",
      "Processing Record 17 of Set 13 | mbala\n",
      "Processing Record 18 of Set 13 | isangel\n",
      "Processing Record 19 of Set 13 | celestun\n",
      "Processing Record 20 of Set 13 | piti village\n",
      "Processing Record 21 of Set 13 | qarauyl\n",
      "Processing Record 22 of Set 13 | yarmouth\n",
      "-----------------------------\n",
      "Data Retrieval Complete      \n",
      "-----------------------------\n"
     ]
    }
   ],
   "source": [
    "# Set the API base URL\n",
    "url =\"https://api.openweathermap.org/data/2.5/weather?q=\"\n",
    "\n",
    "# Define an empty list to fetch the weather data for each city\n",
    "city_data = []\n",
    "\n",
    "# Print to logger\n",
    "print(\"Beginning Data Retrieval     \")\n",
    "print(\"-----------------------------\")\n",
    "\n",
    "# Create counters\n",
    "record_count = 1\n",
    "set_count = 1\n",
    "\n",
    "#define the unit to metric\n",
    "units = \"metric\"\n",
    "\n",
    "# Loop through all the cities in our list to fetch weather data\n",
    "for i, city in enumerate(cities):\n",
    "        \n",
    "    # Group cities in sets of 50 for logging purposes\n",
    "    if (i % 50 == 0 and i >= 50):\n",
    "        set_count += 1\n",
    "        record_count = 0\n",
    "\n",
    "    # Create endpoint URL with each city\n",
    "    city_url = url + city + \"&appid=\" + weather_api_key + \"&units=\"+ units\n",
    "    \n",
    "    # Log the url, record, and set numbers\n",
    "    print(\"Processing Record %s of Set %s | %s\" % (record_count, set_count, city))\n",
    "\n",
    "    # Add 1 to the record count\n",
    "    record_count += 1\n",
    "\n",
    "    # Run an API request for each of the cities\n",
    "    try:\n",
    "        \n",
    "        # Parse the JSON and retrieve data\n",
    "        city_weather = requests.get(city_url).json()\n",
    "\n",
    "        # Parse out latitude, longitude, max temp, humidity, cloudiness, wind speed, country, and date\n",
    "        city_lat = city_weather[\"coord\"][\"lat\"]\n",
    "        city_lng = city_weather[\"coord\"][\"lon\"]\n",
    "        city_max_temp = city_weather[\"main\"][\"temp_max\"]\n",
    "        city_humidity = city_weather[\"main\"][\"humidity\"]\n",
    "        city_clouds = city_weather[\"clouds\"][\"all\"]\n",
    "        city_wind = city_weather[\"wind\"][\"speed\"]\n",
    "        city_country = city_weather[\"sys\"]['country']\n",
    "        city_date = city_weather[\"dt\"]\n",
    "        \n",
    "        # Append the City information into city_data list\n",
    "        city_data.append({\"City\": city, \n",
    "                          \"Lat\": city_lat, \n",
    "                          \"Lng\": city_lng, \n",
    "                          \"Max Temp\": city_max_temp,\n",
    "                          \"Humidity\": city_humidity,\n",
    "                          \"Cloudiness\": city_clouds,\n",
    "                          \"Wind Speed\": city_wind,\n",
    "                          \"Country\": city_country,\n",
    "                          \"Date\": city_date})\n",
    "\n",
    "    # If an error is experienced, skip the city\n",
    "    except:\n",
    "        print(\"City not found. Skipping...\")\n",
    "        pass\n",
    "              \n",
    "# Indicate that Data Loading is complete \n",
    "print(\"-----------------------------\")\n",
    "print(\"Data Retrieval Complete      \")\n",
    "print(\"-----------------------------\")\n"
   ]
  },
  {
   "cell_type": "code",
   "execution_count": 7,
   "metadata": {},
   "outputs": [
    {
     "data": {
      "text/plain": [
       "597"
      ]
     },
     "execution_count": 7,
     "metadata": {},
     "output_type": "execute_result"
    }
   ],
   "source": [
    "len(city_data)"
   ]
  },
  {
   "cell_type": "code",
   "execution_count": 8,
   "metadata": {},
   "outputs": [
    {
     "data": {
      "text/plain": [
       "City          597\n",
       "Lat           597\n",
       "Lng           597\n",
       "Max Temp      597\n",
       "Humidity      597\n",
       "Cloudiness    597\n",
       "Wind Speed    597\n",
       "Country       597\n",
       "Date          597\n",
       "dtype: int64"
      ]
     },
     "execution_count": 8,
     "metadata": {},
     "output_type": "execute_result"
    }
   ],
   "source": [
    "# Convert the cities weather data into a Pandas DataFrame\n",
    "city_data_df =pd.DataFrame(city_data)\n",
    "\n",
    "# Show Record Count\n",
    "city_data_df.count()\n"
   ]
  },
  {
   "cell_type": "code",
   "execution_count": 9,
   "metadata": {},
   "outputs": [
    {
     "data": {
      "text/html": [
       "<div>\n",
       "<style scoped>\n",
       "    .dataframe tbody tr th:only-of-type {\n",
       "        vertical-align: middle;\n",
       "    }\n",
       "\n",
       "    .dataframe tbody tr th {\n",
       "        vertical-align: top;\n",
       "    }\n",
       "\n",
       "    .dataframe thead th {\n",
       "        text-align: right;\n",
       "    }\n",
       "</style>\n",
       "<table border=\"1\" class=\"dataframe\">\n",
       "  <thead>\n",
       "    <tr style=\"text-align: right;\">\n",
       "      <th></th>\n",
       "      <th>City</th>\n",
       "      <th>Lat</th>\n",
       "      <th>Lng</th>\n",
       "      <th>Max Temp</th>\n",
       "      <th>Humidity</th>\n",
       "      <th>Cloudiness</th>\n",
       "      <th>Wind Speed</th>\n",
       "      <th>Country</th>\n",
       "      <th>Date</th>\n",
       "    </tr>\n",
       "  </thead>\n",
       "  <tbody>\n",
       "    <tr>\n",
       "      <th>0</th>\n",
       "      <td>kapa'a</td>\n",
       "      <td>22.0752</td>\n",
       "      <td>-159.3190</td>\n",
       "      <td>22.99</td>\n",
       "      <td>93</td>\n",
       "      <td>70</td>\n",
       "      <td>3.63</td>\n",
       "      <td>US</td>\n",
       "      <td>1701450014</td>\n",
       "    </tr>\n",
       "    <tr>\n",
       "      <th>1</th>\n",
       "      <td>isafjordur</td>\n",
       "      <td>66.0755</td>\n",
       "      <td>-23.1240</td>\n",
       "      <td>-0.98</td>\n",
       "      <td>69</td>\n",
       "      <td>75</td>\n",
       "      <td>3.60</td>\n",
       "      <td>IS</td>\n",
       "      <td>1701450015</td>\n",
       "    </tr>\n",
       "    <tr>\n",
       "      <th>2</th>\n",
       "      <td>uturoa</td>\n",
       "      <td>-16.7333</td>\n",
       "      <td>-151.4333</td>\n",
       "      <td>27.12</td>\n",
       "      <td>81</td>\n",
       "      <td>49</td>\n",
       "      <td>8.23</td>\n",
       "      <td>PF</td>\n",
       "      <td>1701450016</td>\n",
       "    </tr>\n",
       "    <tr>\n",
       "      <th>3</th>\n",
       "      <td>waitangi</td>\n",
       "      <td>-43.9535</td>\n",
       "      <td>-176.5597</td>\n",
       "      <td>10.46</td>\n",
       "      <td>62</td>\n",
       "      <td>87</td>\n",
       "      <td>5.00</td>\n",
       "      <td>NZ</td>\n",
       "      <td>1701450019</td>\n",
       "    </tr>\n",
       "    <tr>\n",
       "      <th>4</th>\n",
       "      <td>adamstown</td>\n",
       "      <td>-25.0660</td>\n",
       "      <td>-130.1015</td>\n",
       "      <td>21.49</td>\n",
       "      <td>73</td>\n",
       "      <td>8</td>\n",
       "      <td>4.12</td>\n",
       "      <td>PN</td>\n",
       "      <td>1701450026</td>\n",
       "    </tr>\n",
       "  </tbody>\n",
       "</table>\n",
       "</div>"
      ],
      "text/plain": [
       "         City      Lat       Lng  Max Temp  Humidity  Cloudiness  Wind Speed  \\\n",
       "0      kapa'a  22.0752 -159.3190     22.99        93          70        3.63   \n",
       "1  isafjordur  66.0755  -23.1240     -0.98        69          75        3.60   \n",
       "2      uturoa -16.7333 -151.4333     27.12        81          49        8.23   \n",
       "3    waitangi -43.9535 -176.5597     10.46        62          87        5.00   \n",
       "4   adamstown -25.0660 -130.1015     21.49        73           8        4.12   \n",
       "\n",
       "  Country        Date  \n",
       "0      US  1701450014  \n",
       "1      IS  1701450015  \n",
       "2      PF  1701450016  \n",
       "3      NZ  1701450019  \n",
       "4      PN  1701450026  "
      ]
     },
     "execution_count": 9,
     "metadata": {},
     "output_type": "execute_result"
    }
   ],
   "source": [
    "# Display sample data\n",
    "city_data_df.head()"
   ]
  },
  {
   "cell_type": "code",
   "execution_count": 18,
   "metadata": {},
   "outputs": [],
   "source": [
    "# Export the City_Data into a csv\n",
    "city_data_df.to_csv(\"output_data/cities.csv\", index_label=\"City_ID\")"
   ]
  },
  {
   "cell_type": "code",
   "execution_count": 19,
   "metadata": {},
   "outputs": [
    {
     "data": {
      "text/html": [
       "<div>\n",
       "<style scoped>\n",
       "    .dataframe tbody tr th:only-of-type {\n",
       "        vertical-align: middle;\n",
       "    }\n",
       "\n",
       "    .dataframe tbody tr th {\n",
       "        vertical-align: top;\n",
       "    }\n",
       "\n",
       "    .dataframe thead th {\n",
       "        text-align: right;\n",
       "    }\n",
       "</style>\n",
       "<table border=\"1\" class=\"dataframe\">\n",
       "  <thead>\n",
       "    <tr style=\"text-align: right;\">\n",
       "      <th></th>\n",
       "      <th>City</th>\n",
       "      <th>Lat</th>\n",
       "      <th>Lng</th>\n",
       "      <th>Max Temp</th>\n",
       "      <th>Humidity</th>\n",
       "      <th>Cloudiness</th>\n",
       "      <th>Wind Speed</th>\n",
       "      <th>Country</th>\n",
       "      <th>Date</th>\n",
       "    </tr>\n",
       "    <tr>\n",
       "      <th>City_ID</th>\n",
       "      <th></th>\n",
       "      <th></th>\n",
       "      <th></th>\n",
       "      <th></th>\n",
       "      <th></th>\n",
       "      <th></th>\n",
       "      <th></th>\n",
       "      <th></th>\n",
       "      <th></th>\n",
       "    </tr>\n",
       "  </thead>\n",
       "  <tbody>\n",
       "    <tr>\n",
       "      <th>0</th>\n",
       "      <td>kapa'a</td>\n",
       "      <td>22.0752</td>\n",
       "      <td>-159.3190</td>\n",
       "      <td>22.99</td>\n",
       "      <td>93</td>\n",
       "      <td>70</td>\n",
       "      <td>3.63</td>\n",
       "      <td>US</td>\n",
       "      <td>1701450014</td>\n",
       "    </tr>\n",
       "    <tr>\n",
       "      <th>1</th>\n",
       "      <td>isafjordur</td>\n",
       "      <td>66.0755</td>\n",
       "      <td>-23.1240</td>\n",
       "      <td>-0.98</td>\n",
       "      <td>69</td>\n",
       "      <td>75</td>\n",
       "      <td>3.60</td>\n",
       "      <td>IS</td>\n",
       "      <td>1701450015</td>\n",
       "    </tr>\n",
       "    <tr>\n",
       "      <th>2</th>\n",
       "      <td>uturoa</td>\n",
       "      <td>-16.7333</td>\n",
       "      <td>-151.4333</td>\n",
       "      <td>27.12</td>\n",
       "      <td>81</td>\n",
       "      <td>49</td>\n",
       "      <td>8.23</td>\n",
       "      <td>PF</td>\n",
       "      <td>1701450016</td>\n",
       "    </tr>\n",
       "    <tr>\n",
       "      <th>3</th>\n",
       "      <td>waitangi</td>\n",
       "      <td>-43.9535</td>\n",
       "      <td>-176.5597</td>\n",
       "      <td>10.46</td>\n",
       "      <td>62</td>\n",
       "      <td>87</td>\n",
       "      <td>5.00</td>\n",
       "      <td>NZ</td>\n",
       "      <td>1701450019</td>\n",
       "    </tr>\n",
       "    <tr>\n",
       "      <th>4</th>\n",
       "      <td>adamstown</td>\n",
       "      <td>-25.0660</td>\n",
       "      <td>-130.1015</td>\n",
       "      <td>21.49</td>\n",
       "      <td>73</td>\n",
       "      <td>8</td>\n",
       "      <td>4.12</td>\n",
       "      <td>PN</td>\n",
       "      <td>1701450026</td>\n",
       "    </tr>\n",
       "  </tbody>\n",
       "</table>\n",
       "</div>"
      ],
      "text/plain": [
       "               City      Lat       Lng  Max Temp  Humidity  Cloudiness  \\\n",
       "City_ID                                                                  \n",
       "0            kapa'a  22.0752 -159.3190     22.99        93          70   \n",
       "1        isafjordur  66.0755  -23.1240     -0.98        69          75   \n",
       "2            uturoa -16.7333 -151.4333     27.12        81          49   \n",
       "3          waitangi -43.9535 -176.5597     10.46        62          87   \n",
       "4         adamstown -25.0660 -130.1015     21.49        73           8   \n",
       "\n",
       "         Wind Speed Country        Date  \n",
       "City_ID                                  \n",
       "0              3.63      US  1701450014  \n",
       "1              3.60      IS  1701450015  \n",
       "2              8.23      PF  1701450016  \n",
       "3              5.00      NZ  1701450019  \n",
       "4              4.12      PN  1701450026  "
      ]
     },
     "execution_count": 19,
     "metadata": {},
     "output_type": "execute_result"
    }
   ],
   "source": [
    "# Read saved data\n",
    "city_data_df = pd.read_csv(\"output_data/cities.csv\", index_col=\"City_ID\")\n",
    "\n",
    "# Display sample data\n",
    "city_data_df.head()"
   ]
  },
  {
   "cell_type": "markdown",
   "metadata": {},
   "source": [
    "### Create the Scatter Plots Requested\n",
    "\n",
    "#### Latitude Vs. Temperature"
   ]
  },
  {
   "cell_type": "code",
   "execution_count": 20,
   "metadata": {},
   "outputs": [],
   "source": [
    "#extract relevent fields from the dataframe for plotting\n",
    "lats = city_data_df[\"Lat\"]\n",
    "max_temps = city_data_df[\"Max Temp\"]\n",
    "humidity = city_data_df[\"Humidity\"]\n",
    "cloudiness = city_data_df[\"Cloudiness\"]\n",
    "wind_speed = city_data_df[\"Wind Speed\"]\n"
   ]
  },
  {
   "cell_type": "code",
   "execution_count": 21,
   "metadata": {},
   "outputs": [
    {
     "data": {
      "image/png": "[encoded data removed]",
      "text/plain": [
       "<Figure size 432x288 with 1 Axes>"
      ]
     },
     "metadata": {
      "needs_background": "light"
     },
     "output_type": "display_data"
    }
   ],
   "source": [
    "# Build scatter plot for latitude vs. temperature\n",
    "plt.plot(city_data_df[\"Lat\"], \n",
    "         city_data_df[\"Max Temp\"],\n",
    "         linestyle=\"none\", \n",
    "         marker=\"o\", \n",
    "         markeredgecolor=\"black\", \n",
    "         markeredgewidth=0.75)\n",
    "\n",
    "\n",
    "# Incorporate the other graph properties\n",
    "plt.xlabel(\"Latitude\")\n",
    "plt.ylabel(\"Max Temperature (C)\")\n",
    "plt.title(\"City Max Latitude vs. Temperature (2023-02-07)\")\n",
    "plt.grid()\n",
    "\n",
    "# Save the figure\n",
    "plt.savefig(\"output_data/Fig1.png\")\n",
    "\n",
    "# Show plot\n",
    "plt.show()"
   ]
  },
  {
   "cell_type": "markdown",
   "metadata": {},
   "source": [
    "#### Latitude Vs. Humidity"
   ]
  },
  {
   "cell_type": "code",
   "execution_count": 22,
   "metadata": {},
   "outputs": [
    {
     "data": {
      "image/png": "[encoded data removed]",
      "text/plain": [
       "<Figure size 432x288 with 1 Axes>"
      ]
     },
     "metadata": {
      "needs_background": "light"
     },
     "output_type": "display_data"
    }
   ],
   "source": [
    "\n",
    "# Build the scatter plots for latitude vs. humidity\n",
    "plt.plot(city_data_df[\"Lat\"], \n",
    "         city_data_df[\"Humidity\"],\n",
    "         linestyle=\"none\", \n",
    "         marker=\"o\", \n",
    "         markeredgecolor=\"black\", \n",
    "         markeredgewidth=0.75)\n",
    "\n",
    "# Incorporate the other graph properties\n",
    "plt.xlabel(\"Latitude\")\n",
    "plt.ylabel(\"Humidity (%)\")\n",
    "plt.title(\"City Latitude vs. Humidity (2023-02-07)\")\n",
    "plt.grid()\n",
    "\n",
    "# Save the figure\n",
    "plt.savefig(\"output_data/Fig2.png\")\n",
    "\n",
    "# Show plot\n",
    "plt.show()\n"
   ]
  },
  {
   "cell_type": "markdown",
   "metadata": {},
   "source": [
    "#### Latitude Vs. Cloudiness"
   ]
  },
  {
   "cell_type": "code",
   "execution_count": 23,
   "metadata": {},
   "outputs": [
    {
     "data": {
      "image/png": "[encoded data removed]",
      "text/plain": [
       "<Figure size 432x288 with 1 Axes>"
      ]
     },
     "metadata": {
      "needs_background": "light"
     },
     "output_type": "display_data"
    }
   ],
   "source": [
    "# Build the scatter plots for latitude vs. cloudiness\n",
    "plt.plot(city_data_df[\"Lat\"], \n",
    "         city_data_df[\"Cloudiness\"], \n",
    "         linestyle=\"none\", \n",
    "         marker=\"o\", \n",
    "         markeredgecolor=\"black\", \n",
    "         markeredgewidth=0.75)\n",
    "\n",
    "# Incorporate the other graph properties\n",
    "plt.xlabel(\"Latitude\")\n",
    "plt.ylabel(\"Cloudiness (%)\")\n",
    "plt.title(\"City Latitude vs. Cloudiness (2023-02-07)\")\n",
    "plt.grid()\n",
    "\n",
    "# Save the figure\n",
    "plt.savefig(\"output_data/Fig3.png\")\n",
    "\n",
    "# Show plot\n",
    "plt.show()"
   ]
  },
  {
   "cell_type": "markdown",
   "metadata": {},
   "source": [
    "#### Latitude vs. Wind Speed Plot"
   ]
  },
  {
   "cell_type": "code",
   "execution_count": 24,
   "metadata": {},
   "outputs": [
    {
     "data": {
      "image/png": "[encoded data removed]",
      "text/plain": [
       "<Figure size 432x288 with 1 Axes>"
      ]
     },
     "metadata": {
      "needs_background": "light"
     },
     "output_type": "display_data"
    }
   ],
   "source": [
    "# Build the scatter plots for latitude vs. wind speed\n",
    "plt.plot(city_data_df[\"Lat\"], \n",
    "         city_data_df[\"Wind Speed\"], \n",
    "         linestyle=\"none\", \n",
    "         marker=\"o\", \n",
    "         markeredgecolor=\"black\", \n",
    "         markeredgewidth=0.75)\n",
    "\n",
    "# Incorporate the other graph properties\n",
    "plt.xlabel(\"Latitude\")\n",
    "plt.ylabel(\"Wind Speed (m/s)\")\n",
    "plt.title(\"City Latitude vs. Wind Speed (2023-02-07)\")\n",
    "plt.grid()\n",
    "\n",
    "# Save the figure\n",
    "plt.savefig(\"output_data/Fig4.png\")\n",
    "\n",
    "# Show plot\n",
    "plt.show()"
   ]
  },
  {
   "cell_type": "markdown",
   "metadata": {},
   "source": [
    "---\n",
    "\n",
    "## Requirement 2: Compute Linear Regression for Each Relationship\n"
   ]
  },
  {
   "cell_type": "code",
   "execution_count": 25,
   "metadata": {},
   "outputs": [],
   "source": [
    "# Define a function to create Linear Regression plots\n",
    "def linear_regression(x_values, y_values, x_c=.1, y_c=.9):\n",
    "    slope, intercept, rvalue, pvalue, stderr = linregress(x_values, y_values)\n",
    "    regress_values = x_values * slope + intercept\n",
    "    line_eq = \"y = \" + str(round(slope,2)) + \"x + \" + str(round(intercept,2))\n",
    "    plt.scatter(x_values,y_values)\n",
    "    plt.plot(x_values,regress_values,\"r-\")\n",
    "    plt.annotate(line_eq, xy=(x_c, y_c), xycoords='axes fraction', fontsize=15,color=\"red\")\n",
    "    plt.xlabel (\"Latitude\")\n",
    "    plt.ylabel (y_values.name)\n",
    "    print(f\"The r-value is: {rvalue**2}\")\n",
    "    plt.show()"
   ]
  },
  {
   "cell_type": "code",
   "execution_count": 26,
   "metadata": {},
   "outputs": [
    {
     "data": {
      "text/html": [
       "<div>\n",
       "<style scoped>\n",
       "    .dataframe tbody tr th:only-of-type {\n",
       "        vertical-align: middle;\n",
       "    }\n",
       "\n",
       "    .dataframe tbody tr th {\n",
       "        vertical-align: top;\n",
       "    }\n",
       "\n",
       "    .dataframe thead th {\n",
       "        text-align: right;\n",
       "    }\n",
       "</style>\n",
       "<table border=\"1\" class=\"dataframe\">\n",
       "  <thead>\n",
       "    <tr style=\"text-align: right;\">\n",
       "      <th></th>\n",
       "      <th>City</th>\n",
       "      <th>Lat</th>\n",
       "      <th>Lng</th>\n",
       "      <th>Max Temp</th>\n",
       "      <th>Humidity</th>\n",
       "      <th>Cloudiness</th>\n",
       "      <th>Wind Speed</th>\n",
       "      <th>Country</th>\n",
       "      <th>Date</th>\n",
       "    </tr>\n",
       "    <tr>\n",
       "      <th>City_ID</th>\n",
       "      <th></th>\n",
       "      <th></th>\n",
       "      <th></th>\n",
       "      <th></th>\n",
       "      <th></th>\n",
       "      <th></th>\n",
       "      <th></th>\n",
       "      <th></th>\n",
       "      <th></th>\n",
       "    </tr>\n",
       "  </thead>\n",
       "  <tbody>\n",
       "    <tr>\n",
       "      <th>0</th>\n",
       "      <td>kapa'a</td>\n",
       "      <td>22.0752</td>\n",
       "      <td>-159.3190</td>\n",
       "      <td>22.99</td>\n",
       "      <td>93</td>\n",
       "      <td>70</td>\n",
       "      <td>3.63</td>\n",
       "      <td>US</td>\n",
       "      <td>1701450014</td>\n",
       "    </tr>\n",
       "    <tr>\n",
       "      <th>1</th>\n",
       "      <td>isafjordur</td>\n",
       "      <td>66.0755</td>\n",
       "      <td>-23.1240</td>\n",
       "      <td>-0.98</td>\n",
       "      <td>69</td>\n",
       "      <td>75</td>\n",
       "      <td>3.60</td>\n",
       "      <td>IS</td>\n",
       "      <td>1701450015</td>\n",
       "    </tr>\n",
       "    <tr>\n",
       "      <th>7</th>\n",
       "      <td>kodiak</td>\n",
       "      <td>57.7900</td>\n",
       "      <td>-152.4072</td>\n",
       "      <td>2.73</td>\n",
       "      <td>93</td>\n",
       "      <td>100</td>\n",
       "      <td>4.12</td>\n",
       "      <td>US</td>\n",
       "      <td>1701450027</td>\n",
       "    </tr>\n",
       "    <tr>\n",
       "      <th>8</th>\n",
       "      <td>puerto lempira</td>\n",
       "      <td>15.2667</td>\n",
       "      <td>-83.7667</td>\n",
       "      <td>30.08</td>\n",
       "      <td>84</td>\n",
       "      <td>20</td>\n",
       "      <td>0.00</td>\n",
       "      <td>HN</td>\n",
       "      <td>1701450027</td>\n",
       "    </tr>\n",
       "    <tr>\n",
       "      <th>9</th>\n",
       "      <td>rikaze</td>\n",
       "      <td>29.2500</td>\n",
       "      <td>88.8833</td>\n",
       "      <td>-1.51</td>\n",
       "      <td>42</td>\n",
       "      <td>2</td>\n",
       "      <td>1.88</td>\n",
       "      <td>CN</td>\n",
       "      <td>1701450027</td>\n",
       "    </tr>\n",
       "  </tbody>\n",
       "</table>\n",
       "</div>"
      ],
      "text/plain": [
       "                   City      Lat       Lng  Max Temp  Humidity  Cloudiness  \\\n",
       "City_ID                                                                      \n",
       "0                kapa'a  22.0752 -159.3190     22.99        93          70   \n",
       "1            isafjordur  66.0755  -23.1240     -0.98        69          75   \n",
       "7                kodiak  57.7900 -152.4072      2.73        93         100   \n",
       "8        puerto lempira  15.2667  -83.7667     30.08        84          20   \n",
       "9                rikaze  29.2500   88.8833     -1.51        42           2   \n",
       "\n",
       "         Wind Speed Country        Date  \n",
       "City_ID                                  \n",
       "0              3.63      US  1701450014  \n",
       "1              3.60      IS  1701450015  \n",
       "7              4.12      US  1701450027  \n",
       "8              0.00      HN  1701450027  \n",
       "9              1.88      CN  1701450027  "
      ]
     },
     "execution_count": 26,
     "metadata": {},
     "output_type": "execute_result"
    }
   ],
   "source": [
    "# Create a DataFrame with the Northern Hemisphere data (Latitude >= 0)\n",
    "northern_hemi_df = city_data_df[city_data_df[\"Lat\"] >= 0]\n",
    "\n",
    "\n",
    "# Display sample data\n",
    "northern_hemi_df.head()"
   ]
  },
  {
   "cell_type": "code",
   "execution_count": 27,
   "metadata": {},
   "outputs": [
    {
     "data": {
      "text/html": [
       "<div>\n",
       "<style scoped>\n",
       "    .dataframe tbody tr th:only-of-type {\n",
       "        vertical-align: middle;\n",
       "    }\n",
       "\n",
       "    .dataframe tbody tr th {\n",
       "        vertical-align: top;\n",
       "    }\n",
       "\n",
       "    .dataframe thead th {\n",
       "        text-align: right;\n",
       "    }\n",
       "</style>\n",
       "<table border=\"1\" class=\"dataframe\">\n",
       "  <thead>\n",
       "    <tr style=\"text-align: right;\">\n",
       "      <th></th>\n",
       "      <th>City</th>\n",
       "      <th>Lat</th>\n",
       "      <th>Lng</th>\n",
       "      <th>Max Temp</th>\n",
       "      <th>Humidity</th>\n",
       "      <th>Cloudiness</th>\n",
       "      <th>Wind Speed</th>\n",
       "      <th>Country</th>\n",
       "      <th>Date</th>\n",
       "    </tr>\n",
       "    <tr>\n",
       "      <th>City_ID</th>\n",
       "      <th></th>\n",
       "      <th></th>\n",
       "      <th></th>\n",
       "      <th></th>\n",
       "      <th></th>\n",
       "      <th></th>\n",
       "      <th></th>\n",
       "      <th></th>\n",
       "      <th></th>\n",
       "    </tr>\n",
       "  </thead>\n",
       "  <tbody>\n",
       "    <tr>\n",
       "      <th>2</th>\n",
       "      <td>uturoa</td>\n",
       "      <td>-16.7333</td>\n",
       "      <td>-151.4333</td>\n",
       "      <td>27.12</td>\n",
       "      <td>81</td>\n",
       "      <td>49</td>\n",
       "      <td>8.23</td>\n",
       "      <td>PF</td>\n",
       "      <td>1701450016</td>\n",
       "    </tr>\n",
       "    <tr>\n",
       "      <th>3</th>\n",
       "      <td>waitangi</td>\n",
       "      <td>-43.9535</td>\n",
       "      <td>-176.5597</td>\n",
       "      <td>10.46</td>\n",
       "      <td>62</td>\n",
       "      <td>87</td>\n",
       "      <td>5.00</td>\n",
       "      <td>NZ</td>\n",
       "      <td>1701450019</td>\n",
       "    </tr>\n",
       "    <tr>\n",
       "      <th>4</th>\n",
       "      <td>adamstown</td>\n",
       "      <td>-25.0660</td>\n",
       "      <td>-130.1015</td>\n",
       "      <td>21.49</td>\n",
       "      <td>73</td>\n",
       "      <td>8</td>\n",
       "      <td>4.12</td>\n",
       "      <td>PN</td>\n",
       "      <td>1701450026</td>\n",
       "    </tr>\n",
       "    <tr>\n",
       "      <th>5</th>\n",
       "      <td>cidreira</td>\n",
       "      <td>-30.1811</td>\n",
       "      <td>-50.2056</td>\n",
       "      <td>24.35</td>\n",
       "      <td>79</td>\n",
       "      <td>45</td>\n",
       "      <td>6.14</td>\n",
       "      <td>BR</td>\n",
       "      <td>1701450026</td>\n",
       "    </tr>\n",
       "    <tr>\n",
       "      <th>6</th>\n",
       "      <td>port-aux-francais</td>\n",
       "      <td>-49.3500</td>\n",
       "      <td>70.2167</td>\n",
       "      <td>2.40</td>\n",
       "      <td>76</td>\n",
       "      <td>73</td>\n",
       "      <td>9.67</td>\n",
       "      <td>TF</td>\n",
       "      <td>1701450027</td>\n",
       "    </tr>\n",
       "  </tbody>\n",
       "</table>\n",
       "</div>"
      ],
      "text/plain": [
       "                      City      Lat       Lng  Max Temp  Humidity  Cloudiness  \\\n",
       "City_ID                                                                         \n",
       "2                   uturoa -16.7333 -151.4333     27.12        81          49   \n",
       "3                 waitangi -43.9535 -176.5597     10.46        62          87   \n",
       "4                adamstown -25.0660 -130.1015     21.49        73           8   \n",
       "5                 cidreira -30.1811  -50.2056     24.35        79          45   \n",
       "6        port-aux-francais -49.3500   70.2167      2.40        76          73   \n",
       "\n",
       "         Wind Speed Country        Date  \n",
       "City_ID                                  \n",
       "2              8.23      PF  1701450016  \n",
       "3              5.00      NZ  1701450019  \n",
       "4              4.12      PN  1701450026  \n",
       "5              6.14      BR  1701450026  \n",
       "6              9.67      TF  1701450027  "
      ]
     },
     "execution_count": 27,
     "metadata": {},
     "output_type": "execute_result"
    }
   ],
   "source": [
    "# Create a DataFrame with the Southern Hemisphere data (Latitude < 0)\n",
    "southern_hemi_df = city_data_df[city_data_df[\"Lat\"] < 0]\n",
    "\n",
    "\n",
    "# Display sample data\n",
    "southern_hemi_df.head()\n"
   ]
  },
  {
   "cell_type": "markdown",
   "metadata": {},
   "source": [
    "###  Temperature vs. Latitude Linear Regression Plot"
   ]
  },
  {
   "cell_type": "code",
   "execution_count": 28,
   "metadata": {},
   "outputs": [
    {
     "name": "stdout",
     "output_type": "stream",
     "text": [
      "The r-value is: 0.80370455454652\n"
     ]
    },
    {
     "data": {
      "image/png": "[encoded data removed]",
      "text/plain": [
       "<Figure size 432x288 with 1 Axes>"
      ]
     },
     "metadata": {
      "needs_background": "light"
     },
     "output_type": "display_data"
    }
   ],
   "source": [
    "# Linear regression on Northern Hemisphere\n",
    "x_values = northern_hemi_df[\"Lat\"]\n",
    "y_values = northern_hemi_df[\"Max Temp\"]\n",
    "\n",
    "linear_regression(x_values, y_values, 0.1, 0.1)"
   ]
  },
  {
   "cell_type": "code",
   "execution_count": 29,
   "metadata": {},
   "outputs": [
    {
     "name": "stdout",
     "output_type": "stream",
     "text": [
      "The r-value is: 0.36050518847705837\n"
     ]
    },
    {
     "data": {
      "image/png": "[encoded data removed]",
      "text/plain": [
       "<Figure size 432x288 with 1 Axes>"
      ]
     },
     "metadata": {
      "needs_background": "light"
     },
     "output_type": "display_data"
    }
   ],
   "source": [
    "# Linear regression on Southern Hemisphere\n",
    "x_values = southern_hemi_df[\"Lat\"]\n",
    "y_values = southern_hemi_df[\"Max Temp\"]\n",
    "\n",
    "linear_regression(x_values, y_values, 0.4, 0.1)\n"
   ]
  },
  {
   "cell_type": "markdown",
   "metadata": {},
   "source": [
    "**Discussion about the linear relationship:** \n",
    "\n",
    "Northern Hemisphere:\n",
    "\n",
    "The relationship between latitude and max tempuratures displays a strong negative correlation. The r-value is ~ 0.77 (rounded up) Max temperature drops as the latitude increases. Southern Hemisphere:\n",
    "\n",
    "There is no correlation between latitude and max tempuratures The r-value is ~ 0.16 (rounded up)"
   ]
  },
  {
   "cell_type": "markdown",
   "metadata": {},
   "source": [
    "### Humidity vs. Latitude Linear Regression Plot"
   ]
  },
  {
   "cell_type": "code",
   "execution_count": 30,
   "metadata": {},
   "outputs": [
    {
     "name": "stdout",
     "output_type": "stream",
     "text": [
      "The r-value is: 0.19545846772771952\n"
     ]
    },
    {
     "data": {
      "image/png": "[encoded data removed]",
      "text/plain": [
       "<Figure size 432x288 with 1 Axes>"
      ]
     },
     "metadata": {
      "needs_background": "light"
     },
     "output_type": "display_data"
    }
   ],
   "source": [
    "# Northern Hemisphere\n",
    "x_values = northern_hemi_df[\"Lat\"]\n",
    "y_values = northern_hemi_df[\"Humidity\"]\n",
    "linear_regression(x_values, y_values, 0.5, 0.1)"
   ]
  },
  {
   "cell_type": "code",
   "execution_count": 31,
   "metadata": {},
   "outputs": [
    {
     "name": "stdout",
     "output_type": "stream",
     "text": [
      "The r-value is: 0.03182466969519292\n"
     ]
    },
    {
     "data": {
      "image/png": "[encoded data removed]",
      "text/plain": [
       "<Figure size 432x288 with 1 Axes>"
      ]
     },
     "metadata": {
      "needs_background": "light"
     },
     "output_type": "display_data"
    }
   ],
   "source": [
    "# Southern Hemisphere\n",
    "x_values = southern_hemi_df[\"Lat\"]\n",
    "y_values = southern_hemi_df[\"Humidity\"]\n",
    "linear_regression(x_values, y_values, 0.5, 0.1)"
   ]
  },
  {
   "cell_type": "markdown",
   "metadata": {},
   "source": [
    "**Discussion about the linear relationship:** \n",
    "There is no correlation between latitude and humidity The r-value is ~ 0.18 (rounded up) Southern Hemisphere:\n",
    "\n",
    "There is no correlation between latitude and humidity The r-value is ~ 0.1 (rounded up)"
   ]
  },
  {
   "cell_type": "markdown",
   "metadata": {},
   "source": [
    "### Cloudiness vs. Latitude Linear Regression Plot"
   ]
  },
  {
   "cell_type": "code",
   "execution_count": 32,
   "metadata": {},
   "outputs": [
    {
     "name": "stdout",
     "output_type": "stream",
     "text": [
      "The r-value is: 0.028741761319391948\n"
     ]
    },
    {
     "data": {
      "image/png": "[encoded data removed]",
      "text/plain": [
       "<Figure size 432x288 with 1 Axes>"
      ]
     },
     "metadata": {
      "needs_background": "light"
     },
     "output_type": "display_data"
    }
   ],
   "source": [
    "# Northern Hemisphere\n",
    "x_values = northern_hemi_df[\"Lat\"]\n",
    "y_values = northern_hemi_df[\"Cloudiness\"]\n",
    "linear_regression(x_values, y_values, 0.5, 0.3)\n"
   ]
  },
  {
   "cell_type": "code",
   "execution_count": 33,
   "metadata": {},
   "outputs": [
    {
     "name": "stdout",
     "output_type": "stream",
     "text": [
      "The r-value is: 0.0034483203822909462\n"
     ]
    },
    {
     "data": {
      "image/png": "[encoded data removed]",
      "text/plain": [
       "<Figure size 432x288 with 1 Axes>"
      ]
     },
     "metadata": {
      "needs_background": "light"
     },
     "output_type": "display_data"
    }
   ],
   "source": [
    "# Southern Hemisphere\n",
    "x_values = southern_hemi_df[\"Lat\"]\n",
    "y_values = southern_hemi_df[\"Cloudiness\"]\n",
    "\n",
    "linear_regression(x_values, y_values, 0.05, 0.8)\n"
   ]
  },
  {
   "cell_type": "markdown",
   "metadata": {},
   "source": [
    "**Discussion about the linear relationship:** \n",
    "There is no correlation between Latitude and Cloudliness The r-value is ~ 0.05 (rounded up) Southern Hemisphere:\n",
    "\n",
    "There is no correlation between Latitude and Cloudliness The r-value is ~ 0.19 (rounded up)"
   ]
  },
  {
   "cell_type": "markdown",
   "metadata": {},
   "source": [
    "### Wind Speed vs. Latitude Linear Regression Plot"
   ]
  },
  {
   "cell_type": "code",
   "execution_count": 34,
   "metadata": {},
   "outputs": [
    {
     "name": "stdout",
     "output_type": "stream",
     "text": [
      "The r-value is: 0.015113311613796709\n"
     ]
    },
    {
     "data": {
      "image/png": "[encoded data removed]",
      "text/plain": [
       "<Figure size 432x288 with 1 Axes>"
      ]
     },
     "metadata": {
      "needs_background": "light"
     },
     "output_type": "display_data"
    }
   ],
   "source": [
    "# Northern Hemisphere\n",
    "x_values = northern_hemi_df[\"Lat\"]\n",
    "y_values = northern_hemi_df[\"Wind Speed\"]\n",
    "linear_regression(x_values, y_values)"
   ]
  },
  {
   "cell_type": "code",
   "execution_count": 35,
   "metadata": {},
   "outputs": [
    {
     "name": "stdout",
     "output_type": "stream",
     "text": [
      "The r-value is: 0.10187670209100051\n"
     ]
    },
    {
     "data": {
      "image/png": "[encoded data removed]",
      "text/plain": [
       "<Figure size 432x288 with 1 Axes>"
      ]
     },
     "metadata": {
      "needs_background": "light"
     },
     "output_type": "display_data"
    }
   ],
   "source": [
    "# Southern Hemisphere\n",
    "x_values = southern_hemi_df[\"Lat\"]\n",
    "y_values = southern_hemi_df[\"Wind Speed\"]\n",
    "\n",
    "linear_regression(x_values, y_values, 0.5, 0.8)"
   ]
  },
  {
   "cell_type": "markdown",
   "metadata": {},
   "source": [
    "**Discussion about the linear relationship:** \n",
    "Northern Hemisphere:\n",
    "\n",
    "There is no correlation between Latitude and Wind Speed The r-value is ~ 0.01 (rounded up) Southern Hemisphere:\n",
    "\n",
    "There is no correlation between Latitude and Wind Speed The r-value is ~ 0.09 (rounded up)"
   ]
  },
  {
   "cell_type": "code",
   "execution_count": null,
   "metadata": {},
   "outputs": [],
   "source": []
  }
 ],
 "metadata": {
  "anaconda-cloud": {},
  "kernel_info": {
   "name": "python3"
  },
  "kernelspec": {
   "display_name": "Python 3",
   "language": "python",
   "name": "python3"
  },
  "language_info": {
   "codemirror_mode": {
    "name": "ipython",
    "version": 3
   },
   "file_extension": ".py",
   "mimetype": "text/x-python",
   "name": "python",
   "nbconvert_exporter": "python",
   "pygments_lexer": "ipython3",
   "version": "3.8.8"
  },
  "latex_envs": {
   "LaTeX_envs_menu_present": true,
   "autoclose": false,
   "autocomplete": true,
   "bibliofile": "biblio.bib",
   "cite_by": "apalike",
   "current_citInitial": 1,
   "eqLabelWithNumbers": true,
   "eqNumInitial": 1,
   "hotkeys": {
    "equation": "Ctrl-E",
    "itemize": "Ctrl-I"
   },
   "labels_anchors": false,
   "latex_user_defs": false,
   "report_style_numbering": false,
   "user_envs_cfg": false
  },
  "nteract": {
   "version": "0.12.3"
  }
 },
 "nbformat": 4,
 "nbformat_minor": 4
}
